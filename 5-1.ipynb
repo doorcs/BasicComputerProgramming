{
 "cells": [
  {
   "cell_type": "code",
   "execution_count": null,
   "metadata": {},
   "outputs": [],
   "source": [
    "def convertUnit(len: int, unit: str):\n",
    "    if unit == \"cm\":\n",
    "        return len * 0.1\n",
    "    elif unit == \"m\":\n",
    "        return len * 0.001\n",
    "    elif unit == \"inch\":\n",
    "        return len * 0.03937\n",
    "    elif unit == \"ft\":\n",
    "        return len * 0.003281\n",
    "\n",
    "\n",
    "units = [\"cm\", \"m\", \"inch\", \"ft\"]\n",
    "len = int(input(\"mm 단위의 길이를 입력하세요: \"))\n",
    "\n",
    "for unit in units:\n",
    "    print(f\"{len}mm는 {convertUnit(len, unit)}{unit}입니다.\")"
   ]
  }
 ],
 "metadata": {
  "language_info": {
   "name": "python"
  }
 },
 "nbformat": 4,
 "nbformat_minor": 2
}
