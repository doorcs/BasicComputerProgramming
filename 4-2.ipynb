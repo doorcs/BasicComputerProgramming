{
 "cells": [
  {
   "cell_type": "code",
   "execution_count": null,
   "metadata": {},
   "outputs": [],
   "source": [
    "pita_list = []\n",
    "\n",
    "for a in range(1, 30):\n",
    "    for b in range(a, 30):\n",
    "        for c in range(b, 30):\n",
    "            if a*a + b*b == c*c:\n",
    "                pita_list.append([a, b, c])\n",
    "\n",
    "print(pita_list)"
   ]
  }
 ],
 "metadata": {
  "language_info": {
   "name": "python"
  }
 },
 "nbformat": 4,
 "nbformat_minor": 2
}
