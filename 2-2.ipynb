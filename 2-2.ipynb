{
 "cells": [
  {
   "cell_type": "code",
   "execution_count": null,
   "metadata": {},
   "outputs": [],
   "source": [
    "rad = float(input(\"반지름을 입력해주세요: \"))\n",
    "\n",
    "print(f\"넓이는 {(3.14 * rad * rad):.2f}이고, 원주는 {(3.14 * rad * 2):.2f}이다.\")"
   ]
  }
 ],
 "metadata": {
  "language_info": {
   "name": "python"
  }
 },
 "nbformat": 4,
 "nbformat_minor": 2
}
