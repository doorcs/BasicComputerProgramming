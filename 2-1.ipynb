{
 "cells": [
  {
   "cell_type": "code",
   "execution_count": null,
   "metadata": {},
   "outputs": [],
   "source": [
    "celsius = float(input(\"섭씨 온도를 입력하세요: \"))\n",
    "\n",
    "print(f\"섭씨 {celsius:.1f}도는 화씨 {((celsius * 9/5) + 32):.2f}도이다.\")"
   ]
  }
 ],
 "metadata": {
  "language_info": {
   "name": "python"
  }
 },
 "nbformat": 4,
 "nbformat_minor": 2
}
