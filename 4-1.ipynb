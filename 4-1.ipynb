{
 "cells": [
  {
   "cell_type": "code",
   "execution_count": null,
   "metadata": {},
   "outputs": [],
   "source": [
    "country_capital = {\"아이슬란드\": \"레이캬비크\",\n",
    "                   \"터키\": \"앙카라\",\n",
    "                   \"캐나다\": \"오타와\",\n",
    "                   \"뉴질랜드\": \"웰링턴\",\n",
    "                   \"벨기에\": \"브뤼셀\",\n",
    "                   \"우간다\": \"캄팔라\",\n",
    "                   \"파라과이\": \"아순시온\"}\n",
    "\n",
    "print(\"수도 맞추기 문제를 시작하겠습니다.\")\n",
    "print(\"다음 문제를 보고 정확하게 수도 이름을 입력하시기 바랍니다.\")\n",
    "\n",
    "ans = 0\n",
    "\n",
    "for country in country_capital.keys():\n",
    "    capital = input(f\"{country}의 수도는 어디입니까? \")\n",
    "\n",
    "    if capital == country_capital[country]:\n",
    "        print(\"정답입니다.\")\n",
    "        ans += 1\n",
    "    else:\n",
    "        print(\"오답입니다.\")\n",
    "\n",
    "print(f\"총 {len(country_capital)} 문제 중 수도를 맞춘 정답수는 {ans} 입니다.\")"
   ]
  }
 ],
 "metadata": {
  "language_info": {
   "name": "python"
  }
 },
 "nbformat": 4,
 "nbformat_minor": 2
}
