{
 "cells": [
  {
   "cell_type": "code",
   "execution_count": null,
   "metadata": {},
   "outputs": [],
   "source": [
    "import random\n",
    "\n",
    "\n",
    "def converter(i: int):\n",
    "    if i == 1:\n",
    "        return \"가위\"\n",
    "    elif i == 2:\n",
    "        return \"바위\"\n",
    "    elif i == 3:\n",
    "        return \"보\"\n",
    "\n",
    "\n",
    "Round, pwin, cwin = 1, 0, 0\n",
    "\n",
    "print(\"\"\"===가위/바위/보 게임을 시작합니다.===\n",
    "===5판 3선승제입니다.===\"\"\")\n",
    "\n",
    "while True:\n",
    "    if pwin >= 3 or cwin >= 3:\n",
    "        break\n",
    "\n",
    "    print(f\"==={Round}번째 판===\")\n",
    "    player = int(input(\"1.가위 2.바위 3.보 >> \"))\n",
    "    computer = random.randint(1, 3)\n",
    "\n",
    "    if player == computer: # 문제의 출력 예시를 참고함\n",
    "        pwin += 1\n",
    "        cwin += 1\n",
    "    elif (player == 1 and computer == 3) or (player == 2 and computer == 1) or (player == 3 and computer == 2):\n",
    "        pwin += 1 # 플레이어가 이기는 모든 경우의 수\n",
    "    else:\n",
    "        cwin += 1\n",
    "\n",
    "    print(f\"  나: {converter(player)}\")\n",
    "    print(f\"  컴퓨터: {converter(computer)}\")\n",
    "    print(f\"  현재 스쿠어: {pwin} : {cwin}\")  # 문제의 출력 예시를 참고함\n",
    "    Round += 1\n",
    "\n",
    "if pwin == 3 and cwin == 3:\n",
    "    print(\"무승부입니다!\")\n",
    "elif pwin == 3:\n",
    "    print(\"당신이 이겼습니다!\")\n",
    "else:\n",
    "    print(\"당신이 졌습니다!\")"
   ]
  }
 ],
 "metadata": {
  "language_info": {
   "name": "python"
  }
 },
 "nbformat": 4,
 "nbformat_minor": 2
}
