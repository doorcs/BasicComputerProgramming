{
 "cells": [
  {
   "cell_type": "code",
   "execution_count": null,
   "metadata": {},
   "outputs": [],
   "source": [
    "!sudo apt install tesseract-ocr tesseract-ocr-kor\n",
    "!pip install pytesseract googletrans==4.0.0-rc1\n",
    "\n",
    "import pytesseract\n",
    "import cv2\n",
    "from google.colab.patches import cv2_imshow\n",
    "import googletrans\n",
    "from googletrans import Translator"
   ]
  },
  {
   "cell_type": "code",
   "execution_count": null,
   "metadata": {},
   "outputs": [],
   "source": [
    "image = cv2.imread(\"text2.jpg\")\n",
    "text = pytesseract.image_to_string(image, lang=\"kor\", config=\"--psm 6 --oem 3\")\n",
    "print(text)"
   ]
  },
  {
   "cell_type": "code",
   "execution_count": null,
   "metadata": {},
   "outputs": [],
   "source": [
    "trans1 = Translator().translate(text, src=\"ko\", dest=\"en\")\n",
    "print(trans1.text)"
   ]
  }
 ],
 "metadata": {
  "language_info": {
   "name": "python"
  }
 },
 "nbformat": 4,
 "nbformat_minor": 2
}
