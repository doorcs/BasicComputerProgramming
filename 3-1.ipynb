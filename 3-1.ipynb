{
 "cells": [
  {
   "cell_type": "code",
   "execution_count": null,
   "metadata": {},
   "outputs": [],
   "source": [
    "scale = float(input(\"지진의 리히터 규모를 입력해주세요: \"))\n",
    "\n",
    "if scale < 3.5:\n",
    "    print(\"사람이 거의 느끼지 못하지만 기록된다.\")\n",
    "elif scale <= 5.4:\n",
    "    print(\"가끔 느껴지고 미약한 피해가 발생한다(창문 흔들리고 물건 떨어짐)\")\n",
    "elif scale <= 6.0:\n",
    "    print(\"건물에 약간의 손상이 온다.(벽균열, 서있기 곤란)\")\n",
    "elif scale <= 6.9:\n",
    "    print(\"사람이 사는 곳이 파괴될 수 있다.(가옥 30%이하 파괴)\")\n",
    "elif scale <= 7.9:\n",
    "    print(\"큰 피해를 야기한다(가옥 전파, 교량 파괴, 산사태, 지각 균열)\")\n",
    "else:\n",
    "    print(\"거대한 지진으로 모든 마을이 파괴된다.\")"
   ]
  }
 ],
 "metadata": {
  "language_info": {
   "name": "python"
  }
 },
 "nbformat": 4,
 "nbformat_minor": 2
}
