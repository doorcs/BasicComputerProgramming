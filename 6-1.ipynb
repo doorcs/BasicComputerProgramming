{
 "cells": [
  {
   "cell_type": "code",
   "execution_count": null,
   "metadata": {},
   "outputs": [],
   "source": [
    "import datetime\n",
    "\n",
    "path = '/content/account_book.txt'\n",
    "\n",
    "while True:\n",
    "    print(\"새로 만들기: 1\")\n",
    "    print(\"가계부 보기: 2\")\n",
    "    print(\"수입 추가하기: 3\")\n",
    "    print(\"지출 추가하기: 4\")\n",
    "\n",
    "    cmd = int(input(\"메뉴를 선택하세요 >> \"))\n",
    "\n",
    "    if cmd == 1:\n",
    "      print(\"새로운 가계부를 생성합니다.\")\n",
    "      with open(path, 'w') as file:\n",
    "        pass  # 빈 텍스트 파일을 생성\n",
    "\n",
    "    elif cmd == 2:\n",
    "      print(\"가계부의 내용을 출력합니다.\")\n",
    "      with open(path, 'r') as file:\n",
    "        for line in file.readlines():\n",
    "            print(line, end='')\n",
    "\n",
    "    elif cmd == 3:\n",
    "        print(\"기존 가계부에 수입을 추가합니다.\")\n",
    "        amount = int(input(\"금액을 입력하세요: \"))\n",
    "        info = input(\"내역을 입력하세요: \")\n",
    "\n",
    "        with open(path, 'a') as file:\n",
    "            file.write(f\"[수입] {datetime.datetime.now()}: {amount}원 {info}\\n\")\n",
    "\n",
    "    elif cmd == 4:\n",
    "        print(\"기존 가계부에 지출을 추가합니다.\")\n",
    "        amount = int(input(\"금액을 입력하세요: \"))\n",
    "        info = input(\"내역을 입력하세요: \")\n",
    "\n",
    "        with open(path, 'a') as file:\n",
    "            file.write(f\"[지출] {datetime.datetime.now()}: {amount}원 {info}\\n\")\n",
    "\n",
    "    else:  # 교재 예시를 참고하여, 정해진 메뉴 네가지 중 선택하지 않으면 종료되도록 했습니다\n",
    "        print(\"프로그램을 종료합니다.\")\n",
    "        break"
   ]
  }
 ],
 "metadata": {
  "language_info": {
   "name": "python"
  }
 },
 "nbformat": 4,
 "nbformat_minor": 2
}
