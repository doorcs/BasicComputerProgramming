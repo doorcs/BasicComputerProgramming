{
 "cells": [
  {
   "cell_type": "code",
   "execution_count": null,
   "metadata": {},
   "outputs": [],
   "source": [
    "\n",
    "import pandas as pd\n",
    "import seaborn as sns\n",
    "import matplotlib.pyplot as plt\n",
    "import matplotlib as mpl\n",
    "import matplotlib.font_manager as fm\n",
    "!apt-get -qq install fonts-nanum\n",
    "fe = fm.FontEntry(fname=r'/usr/share/fonts/truetype/nanum/NanumGothic.ttf',name='NanumGothic')\n",
    "fm.fontManager.ttflist.insert(0, fe)\n",
    "plt.rcParams.update({'font.size': 9, 'font.family': 'NanumGothic'})"
   ]
  },
  {
   "cell_type": "code",
   "execution_count": null,
   "metadata": {},
   "outputs": [],
   "source": [
    "df = pd.read_csv(\"/content/board2.csv\")\n",
    "df = df[df[\"응답유형\"]==\"질문\"].sort_values(\"조회수\", ascending=False).head(10)\n",
    "plt.figure(figsize=(10,7))\n",
    "sns.barplot(x=\"조회수\", y=\"제목\", data=df)\n",
    "plt.title(\"조회수가 많은 상위 10\")\n",
    "plt.xlabel('')\n",
    "plt.ylabel('')\n",
    "plt.show()"
   ]
  },
  {
   "cell_type": "code",
   "execution_count": null,
   "metadata": {},
   "outputs": [],
   "source": [
    "df = pd.read_csv(\"board2.csv\")\n",
    "plt.figure(figsize=(10,7))\n",
    "wname = [\"Sunday\", \"Monday\", \"Tuesday\", \"Wednesday\", \"Thursday\", \"Friday\", \"Saturday\"] # order= 부분에 넣을 리스트\n",
    "sns.countplot(y=\"요일\", hue=\"응답유형\", data=df, order=wname).set_title(\"요일별 응답유형별 게시글수\")\n",
    "plt.xlabel('')\n",
    "plt.ylabel('')\n",
    "plt.show()"
   ]
  }
 ],
 "metadata": {
  "language_info": {
   "name": "python"
  }
 },
 "nbformat": 4,
 "nbformat_minor": 2
}
